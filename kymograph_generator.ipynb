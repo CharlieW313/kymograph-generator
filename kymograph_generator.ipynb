{
 "cells": [
  {
   "cell_type": "markdown",
   "id": "b92721b8-8dd2-48a6-9f13-858bb580d29b",
   "metadata": {
    "tags": []
   },
   "source": [
    "# Kymograph generator from trench zarr"
   ]
  },
  {
   "cell_type": "code",
   "execution_count": null,
   "id": "6b86dc7b-ce2c-4273-94c0-0dcf678066ae",
   "metadata": {},
   "outputs": [],
   "source": [
    "import matplotlib.pyplot as plt\n",
    "import numpy as np\n",
    "import os\n",
    "from tqdm.notebook import tqdm\n",
    "import zarr\n",
    "import napari\n",
    "import PIL.ImageDraw\n",
    "import PIL.Image\n",
    "import PIL.ImageFont\n",
    "from skimage.io import imshow, imread\n",
    "from joblib import Parallel, delayed\n",
    "from math import ceil"
   ]
  },
  {
   "cell_type": "code",
   "execution_count": null,
   "id": "6b0a4691-932c-4d50-9990-fc54395a9a9a",
   "metadata": {},
   "outputs": [],
   "source": [
    "trenches = zarr.open(\"trenches.zarr\", mode=\"r\")\n",
    "trenches.shape"
   ]
  },
  {
   "cell_type": "code",
   "execution_count": null,
   "id": "20776be3-5c18-4be2-94ce-b4d9e9f980e2",
   "metadata": {},
   "outputs": [],
   "source": [
    "def create_timestamp_str_secs(time, imaging_interval=3):\n",
    "    \"\"\"\n",
    "    Takes the time point as an integer (e.g. 0, 1, ..., 63), and converts it to an\n",
    "    hh.mm.ss timestamp as a string. \n",
    "    Imaging interval supplied in seconds.\n",
    "    \"\"\"\n",
    "    total_secs = time * imaging_interval\n",
    "    hours = total_secs // 3600\n",
    "    remainder_secs = total_secs % 3600\n",
    "    remainder_mins = remainder_secs // 60\n",
    "    just_secs = remainder_secs % 60\n",
    "    timestamp = \"{}.{}.{}\".format(str(hours).zfill(2), str(remainder_mins).zfill(2), str(just_secs).zfill(2))\n",
    "    \n",
    "    return timestamp"
   ]
  },
  {
   "cell_type": "code",
   "execution_count": null,
   "id": "1e7dacf6-5619-4de8-9d09-0751bff45110",
   "metadata": {},
   "outputs": [],
   "source": [
    "def get_trench(trench_zarr, trench_num, timepoint, channel, add_timestamp=False, font_size=10):\n",
    "    \"\"\"\n",
    "    Pulls the trench array from the zarr, and adds a timestamp if selected\n",
    "    \"\"\"\n",
    "    \n",
    "    if add_timestamp:\n",
    "        trench = trench_zarr[trench_num, timepoint, channel, :, :]\n",
    "        I0 = PIL.Image.fromarray(trench, mode=\"I;16\")\n",
    "        I1 = PIL.ImageDraw.Draw(I0, mode=\"I;16\")\n",
    "        font = PIL.ImageFont.truetype(\"/usr/share/fonts/truetype/freefont/FreeMono.ttf\", font_size, encoding=\"unic\")\n",
    "        \n",
    "        # make the pixel intensity of the timestamp appropriate\n",
    "        img_intensity = np.mean(trench) # could also try max intensity if this performs poorly\n",
    "        font_pixel_intensity_factor = 3  # changes the brightness of the timestamp, 3 is a good value\n",
    "        fill = font_pixel_intensity_factor * (img_intensity/(2**16))*256\n",
    "        \n",
    "        I1.text((5, 5), create_timestamp_str_secs(timepoint), fill=ceil(fill), font=font)\n",
    "        img = np.array(I0)\n",
    "    else:\n",
    "        img = trench_zarr[trench_num, timepoint, channel, :, :]\n",
    "    \n",
    "    return img"
   ]
  },
  {
   "cell_type": "code",
   "execution_count": null,
   "id": "3b8ca6c8-20ea-4e15-b67b-06647df02534",
   "metadata": {},
   "outputs": [],
   "source": [
    "def create_kymograph(trench_zarr, trench_num, time_range, channel, add_timestamp=False, font_size=10, save_image=False, kymo_path=\"kymographs/\"):\n",
    "    \"\"\"\n",
    "    Creates a kymograph from specified trenches.\n",
    "    \"\"\"\n",
    "    trenches = [get_trench(trench_zarr, trench_num, time, channel, add_timestamp=add_timestamp, font_size=font_size) for time in time_range]\n",
    "    kymo = np.concatenate(trenches, axis=1)\n",
    "    \n",
    "    if save_image:\n",
    "        file_name = os.path.join(kymo_path, \"kymo_TR{}_{}.png\".format(str(trench_num).zfill(5), channel))\n",
    "        im = PIL.Image.fromarray(kymo)\n",
    "        im.save(file_name)\n",
    "    \n",
    "    return kymo"
   ]
  },
  {
   "cell_type": "markdown",
   "id": "ad6fe656-9b6f-4730-8a51-8e023992669d",
   "metadata": {},
   "source": [
    "### Test kymograph from zarr array"
   ]
  },
  {
   "cell_type": "code",
   "execution_count": null,
   "id": "18614b3b-b481-4616-a8fd-b8ee57405e82",
   "metadata": {},
   "outputs": [],
   "source": [
    "time_range = [100*x for x in [y for y in range(0,15)]]\n",
    "time_range"
   ]
  },
  {
   "cell_type": "code",
   "execution_count": null,
   "id": "119092c0-41d0-4612-a83d-a6d8cf11bb28",
   "metadata": {},
   "outputs": [],
   "source": [
    "kymo = create_kymograph(trenches, 4, time_range, 2, add_timestamp=True, font_size=22, save_image=False)\n",
    "fig, ax = plt.subplots(figsize=(40, 20))\n",
    "ax.imshow(kymo)"
   ]
  },
  {
   "cell_type": "markdown",
   "id": "ae52835f-439b-461b-956d-283f306e9249",
   "metadata": {},
   "source": [
    "### Generate kymographs"
   ]
  },
  {
   "cell_type": "code",
   "execution_count": null,
   "id": "a33559ca-c64d-4519-b426-90dea5b4861a",
   "metadata": {},
   "outputs": [],
   "source": [
    "try:\n",
    "    os.mkdir(\"kymographs\")\n",
    "except:\n",
    "    pass"
   ]
  },
  {
   "cell_type": "code",
   "execution_count": null,
   "id": "d5948a69-e5b3-4676-bcdd-9933ff4be655",
   "metadata": {},
   "outputs": [],
   "source": []
  },
  {
   "cell_type": "code",
   "execution_count": null,
   "id": "ce53b6f5-90f9-4674-9b8c-e192e89e19ad",
   "metadata": {},
   "outputs": [],
   "source": [
    "############################################"
   ]
  },
  {
   "cell_type": "markdown",
   "id": "29b1c670-cbcd-4fb3-a50b-9b8700895c4f",
   "metadata": {},
   "source": [
    "# Generate kymographs from png files"
   ]
  },
  {
   "cell_type": "code",
   "execution_count": null,
   "id": "f96b4886-3848-4849-b207-da5ac17eb89a",
   "metadata": {},
   "outputs": [],
   "source": [
    "import matplotlib.pyplot as plt\n",
    "import tifffile\n",
    "import numpy as np\n",
    "import os\n",
    "from glob import glob\n",
    "from tqdm.notebook import tqdm\n",
    "import PIL.ImageDraw\n",
    "import PIL.Image\n",
    "import PIL.ImageFont\n",
    "from skimage.io import imshow, imread\n",
    "from natsort import natsorted\n",
    "from joblib import Parallel, delayed"
   ]
  },
  {
   "cell_type": "code",
   "execution_count": null,
   "id": "ddb3c492-9eb7-4164-a2be-9fef0aa4eebd",
   "metadata": {},
   "outputs": [],
   "source": [
    "### TODO convert this to be in seconds\n",
    "\n",
    "def create_timestamp_str(time, imaging_interval=2.5):\n",
    "    \"\"\"\n",
    "    Takes the time point as an integer (e.g. 0, 1, ..., 63), and converts it to an\n",
    "    hh.mm.ss timestamp as a string.\n",
    "    \"\"\"\n",
    "    total_mins = time * imaging_interval\n",
    "    hours = int(total_mins // 60)\n",
    "    mins = total_mins % 60\n",
    "    just_mins = int(mins - (mins % 1))\n",
    "    secs = int((mins % 1) * 60)\n",
    "    timestamp = \"{}.{}.{}\".format(str(hours).zfill(2), str(just_mins).zfill(2), str(secs).zfill(2))\n",
    "    \n",
    "    return timestamp"
   ]
  },
  {
   "cell_type": "code",
   "execution_count": null,
   "id": "a80740f2-4f61-4cae-b606-a39d3f680d12",
   "metadata": {},
   "outputs": [],
   "source": [
    "def create_timestamp_str_secs(time, imaging_interval=150):\n",
    "    \"\"\"\n",
    "    Takes the time point as an integer (e.g. 0, 1, ..., 63), and converts it to an\n",
    "    hh.mm.ss timestamp as a string. \n",
    "    Imaging interval supplied in seconds.\n",
    "    \"\"\"\n",
    "    total_secs = time * imaging_interval\n",
    "    hours = total_secs // 3600\n",
    "    remainder_secs = total_secs % 3600\n",
    "    remainder_mins = remainder_secs // 60\n",
    "    just_secs = remainder_secs % 60\n",
    "    timestamp = \"{}.{}.{}\".format(str(hours).zfill(2), str(remainder_mins).zfill(2), str(just_secs).zfill(2))\n",
    "    \n",
    "    return timestamp"
   ]
  },
  {
   "cell_type": "code",
   "execution_count": null,
   "id": "8dd820ea-3ae1-4781-a20d-72113517828b",
   "metadata": {},
   "outputs": [],
   "source": [
    "def get_trench(trenches_path, FOV, channel, trench_num, time, file_ext=\"png\", add_timestamp=False, font_size=10):\n",
    "    \"\"\"\n",
    "    Creates a numpy array of a specified trench. Adding a timestamp is optional.\n",
    "    \n",
    "    Parameters\n",
    "    ----------\n",
    "    trenches_path : str\n",
    "        The full path to the folder containing the trenches\n",
    "    FOV : int\n",
    "        The desired FOV\n",
    "    channel : str\n",
    "        The desired colour channel \n",
    "    trench_num : int\n",
    "        The desired trench number\n",
    "    time : int\n",
    "        The time point of the desired trench\n",
    "    file_ext : str\n",
    "        The file extension of the trench file, png or tif\n",
    "    add_timestamp: bool\n",
    "        Whether or not to add a timestamp to the image.\n",
    "        \n",
    "    Returns\n",
    "    -------\n",
    "    trench: np.ndarray\n",
    "        The numpy array of the specified trench.\n",
    "    \"\"\"\n",
    "    trench_file = os.path.join(trenches_path, \"xy{}_{}_TR{}_T{}.{}\".format(str(FOV).zfill(3), channel, str(trench_num).zfill(2), str(time).zfill(4), file_ext))\n",
    "    \n",
    "    if add_timestamp:\n",
    "        I0 = PIL.Image.open(trench_file)\n",
    "        I1 = PIL.ImageDraw.Draw(I0)\n",
    "        font = PIL.ImageFont.truetype(\"/usr/share/fonts/truetype/freefont/FreeMono.ttf\", font_size, encoding=\"unic\")\n",
    "        # make the pixel intensity of the timestamp appropriate\n",
    "        if channel == \"PC\":\n",
    "            fill = 40000\n",
    "        if channel == \"mCherry\":\n",
    "            fill = 800\n",
    "        if channel == \"YFP\":\n",
    "            fill = 1000\n",
    "        if channel == \"mVenus\":\n",
    "            fill = 2000\n",
    "        if channel == \"CFP\":\n",
    "            fill = 5\n",
    "        I1.text((5, 5), create_timestamp_str(time), fill=fill, font=font)\n",
    "        trench = np.array(I0)\n",
    "    \n",
    "    else:\n",
    "        if file_ext == \"tif\":\n",
    "            trench = tifffile.imread(trench_file)\n",
    "        else:\n",
    "            trench = imread(trench_file)\n",
    "        \n",
    "    return trench"
   ]
  },
  {
   "cell_type": "code",
   "execution_count": null,
   "id": "40207087-ff92-4e0c-b420-27454b4ad8c5",
   "metadata": {},
   "outputs": [],
   "source": [
    "def create_kymograph(trenches_path, FOV, channel, trench_num, time_range, file_ext=\"png\", timestamp=False, font_size=16, save_image=False):\n",
    "    \"\"\"\n",
    "    Creates a kymograph from specified trenches.\n",
    "    #TODO create ability to only put in, e.g. every second trench or timepoint\n",
    "    #TODO create this as a function of a new class, trench\n",
    "    #TODO for this new class, trench, we should create a natural indexing system.\n",
    "    #TODO make the kymographs a 4 dimensional object, such that you can flick through the colour channels in fiji\n",
    "    \n",
    "    Parameters\n",
    "    ----------\n",
    "    trenches_path : str\n",
    "        The full path to the folder containing the trenches\n",
    "    FOV : int\n",
    "        The desired FOV\n",
    "    channel : str\n",
    "        The desired colour channel \n",
    "    trench_num : int\n",
    "        The desired trench number\n",
    "    time_range : list\n",
    "        The time points to use in the kymograph\n",
    "        \n",
    "    Returns\n",
    "    -------\n",
    "    kymo: numpy.ndarray\n",
    "        The concatenated trenches forming a kymograph.\n",
    "    \"\"\"\n",
    "    trenches = [get_trench(trenches_path, FOV, channel, trench_num, time, file_ext=file_ext, add_timestamp=timestamp, font_size=font_size) for time in time_range]\n",
    "    kymo = np.concatenate(trenches, axis=1)\n",
    "    \n",
    "    if save_image:\n",
    "        file_name = os.path.join(kymo_path, \"kymo_xy{}_{}_TR{}.{}\".format(str(FOV).zfill(3), channel, str(trench_num).zfill(2), file_ext))\n",
    "        im = PIL.Image.fromarray(kymo)\n",
    "        im.save(file_name)\n",
    "    \n",
    "    return kymo"
   ]
  },
  {
   "cell_type": "markdown",
   "id": "02280927-926e-4ecf-9dd9-c80fd4ac01fa",
   "metadata": {},
   "source": [
    "### Test kymograph \n",
    "* Try testing in each channel to ensure the pixel intensity of the text is suitable"
   ]
  },
  {
   "cell_type": "code",
   "execution_count": null,
   "id": "ad797c50-1005-4b4d-9ec1-ccf1da739739",
   "metadata": {},
   "outputs": [],
   "source": [
    "trenches_path = os.getcwd() + \"/trenches\"\n",
    "#trenches_path = trenches_path.encode('unicode-escape').decode()"
   ]
  },
  {
   "cell_type": "code",
   "execution_count": null,
   "id": "5d845b6d-3ce0-4501-bf82-ac54d195c364",
   "metadata": {},
   "outputs": [],
   "source": [
    "kymo = create_kymograph(trenches_path, 10, \"mVenus\", 1, [i for i in range(120,150)], timestamp=True, font_size=16)\n",
    "fig, ax = plt.subplots(figsize=(40, 20))\n",
    "ax.imshow(kymo)"
   ]
  },
  {
   "cell_type": "markdown",
   "id": "216e6ca9-aa42-41ed-9a21-dfed54d124b6",
   "metadata": {},
   "source": [
    "### Create single channel kymographs"
   ]
  },
  {
   "cell_type": "code",
   "execution_count": null,
   "id": "8cfc1651-b251-4c6a-ac71-9219ddfb465a",
   "metadata": {},
   "outputs": [],
   "source": [
    "try:\n",
    "    os.mkdir(\"kymographs\")\n",
    "except:\n",
    "    pass"
   ]
  },
  {
   "cell_type": "code",
   "execution_count": null,
   "id": "2d5b6e08-1543-4005-81ff-f41d4e3a8d0e",
   "metadata": {},
   "outputs": [],
   "source": [
    "# useful parameters for making the kymographs\n",
    "kymo_path = os.getcwd() + \"/kymographs\" \n",
    "trench_files = natsorted(glob(trenches_path + \"/*.png\"))\n",
    "num_FOVs = 96\n",
    "channel_list = [\"mCherry\", \"PC\", \"mVenus\"]\n",
    "num_times = 181\n",
    "\n",
    "# find the number of trenches in each FOV\n",
    "num_trenches_per_FOV = []\n",
    "for FOV in range(num_FOVs):\n",
    "    files = [f for f in trench_files if (\"xy{}_mCherry\".format(str(FOV).zfill(3)) in f) and (\"T0000\" in f)]\n",
    "    num_trenches_per_FOV.append(len(files))\n",
    "print(num_trenches_per_FOV)\n",
    "print(len(num_trenches_per_FOV))"
   ]
  },
  {
   "cell_type": "markdown",
   "id": "22acf9a2-095d-453d-b97e-e0b9afd02228",
   "metadata": {},
   "source": [
    "Beware that this is a very memory intensive step to create kymographs in parallel, might require ~40G of memory across the RAM and swapfile."
   ]
  },
  {
   "cell_type": "code",
   "execution_count": null,
   "id": "35f748d9-5c9b-4596-a7e7-d4f1cb834368",
   "metadata": {},
   "outputs": [],
   "source": [
    "for FOV in tqdm(range(num_FOVs)):\n",
    "    for ch in channel_list:\n",
    "        trench_list = range(num_trenches_per_FOV[FOV])\n",
    "        Parallel(n_jobs=-1)(delayed(create_kymograph)(trenches_path, FOV, ch, tr, [i for i in range(num_times)], timestamp=True, font_size=16, save_image=True) for tr in trench_list)      "
   ]
  },
  {
   "cell_type": "markdown",
   "id": "143a4bad-5f91-477f-86e0-b43c4665b436",
   "metadata": {},
   "source": [
    "### Create multi channel kymographs\n",
    "* Allows colour overlays with independent colour channel adjustment in Fiji\n",
    "* In principle, multi-channel kymographs could be stacked so you could access each trench and FOV with an independent slider"
   ]
  },
  {
   "cell_type": "code",
   "execution_count": null,
   "id": "8f50f4a1-881d-4044-b37b-11091f46a7f9",
   "metadata": {},
   "outputs": [],
   "source": [
    "def create_overlay_kymograph(kymo_path, FOV, channel_list, trench, input_file_ext=\"png\", out_path=None, save_image=False):\n",
    "    \"\"\"\n",
    "    Merge single channel kymographs into overlay kymographs. Best to specify colour channels in the channel_list \n",
    "    in the order red -> green -> blue -> gray, but it's ultimately arbitrary and doesn't really matter, any LUT can be applied in Fiji.\n",
    "    \"\"\"\n",
    "    kymo_names = [\"kymo_xy{}_{}_TR{}.{}\".format(str(FOV).zfill(3), channel, str(trench).zfill(2), input_file_ext) for channel in channel_list]\n",
    "    kymo_files = [os.path.join(kymo_path, f) for f in kymo_names]\n",
    "    if input_file_ext == \"png\": \n",
    "        kymo_arrays = tuple([imread(f) for f in kymo_files])\n",
    "    if input_file_ext == \"tif\":\n",
    "        kymo_arrays = tuple([tifffile.imread(f) for f in kymo_files])\n",
    "    else:\n",
    "        assert input_file_ext == \"png\", \"Check your input file extension type, should be png or tif\"\n",
    "    rgb = np.dstack(kymo_tuple)\n",
    "    \n",
    "    if save_image:\n",
    "        outfile = os.path.join(out_path, \"overlay_kymo_xy{}_TR{}.tif\".format(str(FOV).zfill(3), str(trench).zfill(2)))\n",
    "        tifffile.imwrite(outfile, rgb)\n",
    "        \n",
    "    return rgb"
   ]
  },
  {
   "cell_type": "code",
   "execution_count": null,
   "id": "e2341745-0eed-445e-b3c2-f6d98c9bb391",
   "metadata": {},
   "outputs": [],
   "source": [
    "#os.mkdir(\"kymographs_overlay\")"
   ]
  },
  {
   "cell_type": "code",
   "execution_count": null,
   "id": "6a51c24c-37ca-49a2-af84-221fc4c80bf4",
   "metadata": {},
   "outputs": [],
   "source": [
    "kymo_path = os.getcwd() + \"/kymographs\" \n",
    "out_path = os.getcwd() + \"/kymographs_overlay\"\n",
    "ch_list = [\"mCherry\", \"mVenus\", \"CFP\", \"PC\"]\n",
    "num_FOVs = 45"
   ]
  },
  {
   "cell_type": "code",
   "execution_count": null,
   "id": "86c25745-23fd-41da-935a-2624ca5a07ee",
   "metadata": {},
   "outputs": [],
   "source": [
    "for FOV in tqdm(range(num_FOVs)):\n",
    "    trench_list = range(num_trenches_per_FOV[FOV])\n",
    "    Parallel(n_jobs=-1)(delayed(create_overlay_kymograph)(kymo_path=kymo_path, \n",
    "                                                          FOV=FOV, \n",
    "                                                          channel_list=ch_list, \n",
    "                                                          trench=tr, \n",
    "                                                          input_file_ext=\"png\", \n",
    "                                                          out_path=out_path, \n",
    "                                                          save_image=True) for tr in trench_list)"
   ]
  }
 ],
 "metadata": {
  "kernelspec": {
   "display_name": "Python 3 (ipykernel)",
   "language": "python",
   "name": "python3"
  },
  "language_info": {
   "codemirror_mode": {
    "name": "ipython",
    "version": 3
   },
   "file_extension": ".py",
   "mimetype": "text/x-python",
   "name": "python",
   "nbconvert_exporter": "python",
   "pygments_lexer": "ipython3",
   "version": "3.9.7"
  }
 },
 "nbformat": 4,
 "nbformat_minor": 5
}
